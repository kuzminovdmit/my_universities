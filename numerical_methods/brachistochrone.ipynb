{
 "cells": [
  {
   "cell_type": "code",
   "execution_count": null,
   "metadata": {},
   "outputs": [],
   "source": [
    "from matplotlib import pyplot as plt\n",
    "from scipy.optimize import newton\n",
    "from scipy.integrate import quad\n",
    "\n",
    "import numpy as np"
   ]
  },
  {
   "cell_type": "code",
   "execution_count": null,
   "metadata": {},
   "outputs": [],
   "source": [
    "g = 9.81\n",
    "length = 0.6\n",
    "height = 0.4"
   ]
  },
  {
   "cell_type": "code",
   "execution_count": null,
   "metadata": {},
   "outputs": [],
   "source": [
    "def cycloid(final_x, final_y):\n",
    "    theta2 = newton(\n",
    "        lambda angle: final_y / final_x - (1 - np.cos(angle)) / (angle - np.sin(angle)),\n",
    "        np.pi / 2\n",
    "    )\n",
    "\n",
    "    R = final_y / (1 - np.cos(theta2))\n",
    "    theta = np.linspace(0, theta2, 1000)\n",
    "\n",
    "    return R * (theta - np.sin(theta)), R * (1 - np.cos(theta)), theta2 * np.sqrt(R / g)"
   ]
  },
  {
   "cell_type": "code",
   "execution_count": null,
   "metadata": {},
   "outputs": [],
   "source": [
    "def linear(final_x, final_y):\n",
    "    m = final_y / final_x\n",
    "    x = np.linspace(0, final_x, 1000)\n",
    "\n",
    "    return x, m * x, np.sqrt((1 + m ** 2) / (10 / 7 * g * m * final_x))"
   ]
  },
  {
   "cell_type": "code",
   "execution_count": null,
   "metadata": {},
   "outputs": [],
   "source": [
    "def func(x, f, fp):\n",
    "    return np.sqrt((1 + fp(x) ** 2) / (10 / 7 * g * f(x)))\n",
    "\n",
    "\n",
    "def quadratic(final_x, final_y):\n",
    "    def f(x):\n",
    "        return final_y / final_x ** (1 / 2) * x ** (1 / 2)\n",
    "\n",
    "    def fp(x):\n",
    "        return (1 / 2) * final_y / final_x ** (1 / 2) * x ** (1 / 2 - 1)\n",
    "\n",
    "    x = np.linspace(0, final_x, 1000)\n",
    "    y = f(x)\n",
    "\n",
    "    return x, y, quad(func, 0, final_x, args=(f, fp))[0]\n",
    "\n",
    "\n",
    "def interpolate(final_x, final_y):\n",
    "    x, y, T = cycloid(final_x, final_y)\n",
    "\n",
    "    coef = np.polyfit(x, y, deg=5)\n",
    "    coef_reversed = coef[::-1]\n",
    "\n",
    "    def f(x):\n",
    "        return sum([coef_reversed[i] * x ** i for i in range(len(coef))])\n",
    "\n",
    "    def fp(x):\n",
    "        return sum([i * coef_reversed[i] * x ** (i - 1) for i in range(len(coef))])\n",
    "\n",
    "    T = quad(func, 0, final_x, args=(f, fp))[0]\n",
    "\n",
    "    return [x, np.polyval(coef, x), T]"
   ]
  },
  {
   "cell_type": "code",
   "execution_count": null,
   "metadata": {},
   "outputs": [],
   "source": [
    "fig, ax = plt.subplots()\n",
    "\n",
    "for curve, function in [('cycloid', 'cycloid'), ('linear', 'linear'), ('quadratic', 'quadratic')]:\n",
    "    x, y, T = globals()[function](length, height)\n",
    "    ax.plot(x, y, lw=2, alpha=0.5, label=f'{curve}: {round(T * 1000)} ms')\n",
    "\n",
    "x, y, T = interpolate(length, height)\n",
    "ax.plot(x, y, label=f'interpolation: {round(T * 1000)} мс')\n",
    "\n",
    "ax.legend()\n",
    "ax.set_xlim(0, length)\n",
    "ax.set_ylim(height, 0)\n",
    "\n",
    "plt.show()"
   ]
  }
 ],
 "metadata": {
  "kernelspec": {
   "display_name": "my-universities-WH-lEkkT-py3.10",
   "language": "python",
   "name": "python3"
  },
  "language_info": {
   "codemirror_mode": {
    "name": "ipython",
    "version": 3
   },
   "file_extension": ".py",
   "mimetype": "text/x-python",
   "name": "python",
   "nbconvert_exporter": "python",
   "pygments_lexer": "ipython3",
   "version": "3.10.10"
  },
  "orig_nbformat": 4
 },
 "nbformat": 4,
 "nbformat_minor": 2
}
